{
 "cells": [
  {
   "cell_type": "code",
   "execution_count": 2,
   "metadata": {},
   "outputs": [],
   "source": [
    "import sqlite3\n",
    "import pandas as pd "
   ]
  },
  {
   "cell_type": "code",
   "execution_count": 26,
   "metadata": {},
   "outputs": [
    {
     "name": "stdout",
     "output_type": "stream",
     "text": [
      "    type              name          tbl_name  rootpage  \\\n",
      "0  table   current_weather   current_weather         2   \n",
      "1  table   sqlite_sequence   sqlite_sequence         4   \n",
      "2  table  forecast_weather  forecast_weather         5   \n",
      "\n",
      "                                                 sql  \n",
      "0  CREATE TABLE current_weather (\\n        id INT...  \n",
      "1             CREATE TABLE sqlite_sequence(name,seq)  \n",
      "2  CREATE TABLE forecast_weather (\\n        id IN...  \n",
      "   id      city country         datetime_utc  temp_k  feels_like_k  humidity  \\\n",
      "0   1  New York      US  2025-05-18 15:21:58  294.46        293.95        50   \n",
      "1   3  New York      US  2025-05-18 16:55:23  295.16        294.70        49   \n",
      "2   5  New York      US  2025-05-18 18:47:58  296.30        295.92        48   \n",
      "\n",
      "   pressure  wind_speed  wind_deg weather_description  \n",
      "0      1002        4.47       257       broken clouds  \n",
      "1      1002        7.15       318       broken clouds  \n",
      "2      1001       10.73       296       broken clouds  \n",
      "   id      city country    forecast_time_utc         forecast_created_at  \\\n",
      "0   1  New York      US  2025-05-18 18:00:00  2025-05-18 15:30:49.662142   \n",
      "1   2  New York      US  2025-05-18 21:00:00  2025-05-18 15:30:49.663354   \n",
      "2   3  New York      US  2025-05-19 00:00:00  2025-05-18 15:30:49.663369   \n",
      "3   4  New York      US  2025-05-19 03:00:00  2025-05-18 15:30:49.663376   \n",
      "4   5  New York      US  2025-05-19 06:00:00  2025-05-18 15:30:49.663383   \n",
      "\n",
      "   temp_k  feels_like_k  humidity  pressure  wind_speed  wind_deg  \\\n",
      "0  294.22        293.69        50      1002        7.94       271   \n",
      "1  293.85        293.26        49      1002        8.14       294   \n",
      "2  289.78        289.07        60      1004        8.07       306   \n",
      "3  288.54        287.78        63      1006        8.76       314   \n",
      "4  286.44        285.47        63      1006        7.88       318   \n",
      "\n",
      "  weather_description  \n",
      "0       broken clouds  \n",
      "1       broken clouds  \n",
      "2          light rain  \n",
      "3       broken clouds  \n",
      "4    scattered clouds  \n"
     ]
    }
   ],
   "source": [
    "db_path = \"../data/db/weather.db\"  \n",
    "conn = sqlite3.connect(db_path)\n",
    "tables = pd.read_sql_query(\"SELECT * FROM sqlite_master WHERE type='table';\", conn)\n",
    "current_weather_df = pd.read_sql_query(\"SELECT * FROM current_weather\", conn)\n",
    "forecast_df = pd.read_sql_query(\"SELECT * FROM forecast_weather\", conn)\n",
    "print(tables)\n",
    "print(current_weather_df.head())\n",
    "print(forecast_df.head())"
   ]
  }
 ],
 "metadata": {
  "kernelspec": {
   "display_name": "Python 3",
   "language": "python",
   "name": "python3"
  },
  "language_info": {
   "codemirror_mode": {
    "name": "ipython",
    "version": 3
   },
   "file_extension": ".py",
   "mimetype": "text/x-python",
   "name": "python",
   "nbconvert_exporter": "python",
   "pygments_lexer": "ipython3",
   "version": "3.10.1"
  }
 },
 "nbformat": 4,
 "nbformat_minor": 2
}
